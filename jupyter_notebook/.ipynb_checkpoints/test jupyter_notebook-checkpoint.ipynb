{
 "cells": [
  {
   "cell_type": "markdown",
   "id": "e76a6c0d",
   "metadata": {},
   "source": [
    "# Python with Mushayyed\n",
    "\n",
    "## How to use Jupyter notebook\n",
    "\n",
    "## Basics of Python\n",
    "\n",
    "### **01- My First Program**\n"
   ]
  },
  {
   "cell_type": "code",
   "execution_count": 1,
   "id": "06b78bd8",
   "metadata": {},
   "outputs": [
    {
     "name": "stdout",
     "output_type": "stream",
     "text": [
      "5\n",
      "Hello World\n",
      "We are learning Python with Mushayyed\n"
     ]
    }
   ],
   "source": [
    "print(2+3)\n",
    "print(\"Hello World\")\n",
    "print(\"We are learning Python with Mushayyed\")"
   ]
  },
  {
   "cell_type": "markdown",
   "id": "56f6e41a",
   "metadata": {},
   "source": [
    "### **02- Operators**\n"
   ]
  },
  {
   "cell_type": "code",
   "execution_count": 2,
   "id": "54f657cd",
   "metadata": {},
   "outputs": [
    {
     "name": "stdout",
     "output_type": "stream",
     "text": [
      "5\n",
      "4\n",
      "16\n",
      "4.0\n",
      "1\n",
      "4\n",
      "8\n",
      "6.5\n"
     ]
    }
   ],
   "source": [
    "print(2+3)\n",
    "print(6-2)\n",
    "print(8*2)\n",
    "print(8/2)\n",
    "print(13%2)\n",
    "print(8//2)\n",
    "print(2**3)\n",
    "\n",
    "print(3**2/2*3/3+6-4)"
   ]
  },
  {
   "cell_type": "markdown",
   "id": "6a4e408c",
   "metadata": {},
   "source": [
    "*PEMDAS \n",
    "Paranthesis Exponents Multiply Divide Addition Sub\n",
    "left to right sequence for M D & A S*\n"
   ]
  },
  {
   "cell_type": "markdown",
   "id": "b3db3b55",
   "metadata": {},
   "source": [
    "### **03- Strings**\n"
   ]
  },
  {
   "cell_type": "code",
   "execution_count": 3,
   "id": "b8a927c3",
   "metadata": {},
   "outputs": [
    {
     "name": "stdout",
     "output_type": "stream",
     "text": [
      "Hello World\n",
      "We are learning Python with Mushayyed\n",
      "test for single quotes\n",
      "test for double quotes\n",
      "test for tripple quotes\n",
      "what's up\n"
     ]
    }
   ],
   "source": [
    "print(\"Hello World\")\n",
    "print(\"We are learning Python with Mushayyed\")\n",
    "print('test for single quotes')\n",
    "print(\"test for double quotes\")\n",
    "print('''test for tripple quotes''')\n",
    "\n",
    "print(\"what's up\")"
   ]
  },
  {
   "cell_type": "markdown",
   "id": "0f000222",
   "metadata": {},
   "source": [
    "### **04- Comments**\n",
    "\n",
    "The shortcut key to comments is \"CTRL+/\"\n"
   ]
  },
  {
   "cell_type": "code",
   "execution_count": 4,
   "id": "38a3bb66",
   "metadata": {},
   "outputs": [
    {
     "name": "stdout",
     "output_type": "stream",
     "text": [
      "How are you?\n",
      "We are learning python with Mushayyed\n",
      "8\n"
     ]
    }
   ],
   "source": [
    "print(\"How are you?\") #press these to comment out (Ctrl+?)\n",
    "print(\"We are learning python with Mushayyed\") #print a string\n",
    "print(2+6) #print operators function with numbers"
   ]
  },
  {
   "cell_type": "markdown",
   "id": "79eba2dc",
   "metadata": {},
   "source": [
    "### **05- Variables**\n",
    "The variables are the objects containing specific values\n",
    "\n",
    "**Rules to assign a variable**\n",
    "\n",
    "1- The variable should contain letters, numbers or underscores\n",
    "\n",
    "2- Do not start with numbers\n",
    "\n",
    "3- Spaces are not allowed\n",
    "\n",
    "4- Do not use keywrods used in function (break, mean, media, test, etc.)\n",
    "\n",
    "5- Short and descriptive\n",
    "\n",
    "6- Case sensitivty (Lowercase, uppercase letter, suggest only lowercase letters should be used)\n",
    "\n",
    "**del is used for delete the code, like: del fruit_basket**\n"
   ]
  },
  {
   "cell_type": "code",
   "execution_count": 5,
   "id": "8eb03c47",
   "metadata": {},
   "outputs": [
    {
     "name": "stdout",
     "output_type": "stream",
     "text": [
      "5\n",
      "we are learning Python with Mushayyed\n",
      "20\n",
      "<class 'int'>\n",
      "<class 'str'>\n",
      "('Mangoes', 'Oranges')\n",
      "Mangoes, Oranges\n",
      "8\n",
      "<class 'int'>\n",
      "8\n",
      "Mangoes\n",
      "<class 'str'>\n",
      "Mangoes\n"
     ]
    }
   ],
   "source": [
    "x = 5 #numerator integer varable\n",
    "print(x)\n",
    "\n",
    "y=\"we are learning Python with Mushayyed\" #string variable\n",
    "print(y)\n",
    "\n",
    "x = x+15 #or x=15\n",
    "print(x)\n",
    "\n",
    "# Types of variables\n",
    "type(x)\n",
    "\n",
    "print(type(x))\n",
    "\n",
    "print(type(y))\n",
    "\n",
    "fruit_basket= \"Mangoes\", \"Oranges\"\n",
    "print(fruit_basket)\n",
    "\n",
    "fruit_basket= \"Mangoes, Oranges\"\n",
    "print(fruit_basket)\n",
    "\n",
    "fruit_basket= 8\n",
    "print(fruit_basket)\n",
    "\n",
    "type(fruit_basket)\n",
    "print(type(fruit_basket))\n",
    "print(fruit_basket)\n",
    "\n",
    "fruit_basket= \"Mangoes\"\n",
    "print(fruit_basket)\n",
    "\n",
    "type(fruit_basket)\n",
    "print(type(fruit_basket))\n",
    "print(fruit_basket)"
   ]
  },
  {
   "cell_type": "markdown",
   "id": "ab8174f4",
   "metadata": {},
   "source": [
    "### **06- Input Variables**\n",
    "\n",
    "1- Input function (1st Code)\n",
    "\n",
    "2- Input function of 2nd stage (2nd Code)\n",
    "\n",
    "3- Another way of stage 2 input function (3rd Code)\n",
    "\n",
    "4- Third stage input function (4th Code)\n"
   ]
  },
  {
   "cell_type": "code",
   "execution_count": 6,
   "id": "b8e7e0f3",
   "metadata": {},
   "outputs": [
    {
     "name": "stdout",
     "output_type": "stream",
     "text": [
      "Mangoes\n",
      "what is your favourite fruit?Apple\n",
      "Apple\n",
      "what is your name? Mushayyed\n",
      "Hello! Mushayyed\n",
      "what is your name? M. Ali\n",
      "Hello! M. Ali\n",
      "what is your name? Khan\n",
      "How old are you? 10\n",
      "Hello! Khan , You are still young\n"
     ]
    }
   ],
   "source": [
    "fruit_basket= \"Mangoes\"\n",
    "print(fruit_basket)\n",
    "\n",
    "fruit_basket=input(\"what is your favourite fruit?\")\n",
    "print(fruit_basket)\n",
    "      \n",
    "name= input(\"what is your name? \")\n",
    "greetings=\"Hello!\"\n",
    "print(greetings, name)\n",
    "      \n",
    "name= input(\"what is your name? \")\n",
    "print(\"Hello!\", name)\n",
    "      \n",
    "name= input(\"what is your name? \")\n",
    "age= input(\"How old are you? \")\n",
    "greetings=\"Hello!\"\n",
    "print(greetings, name, \", You are still young\")"
   ]
  },
  {
   "cell_type": "markdown",
   "id": "23e59f83",
   "metadata": {},
   "source": [
    "### **07- Conditional Logics**\n",
    "\n",
    "Logical operators are either \"true or false\" or \"yes or no\" or \"0 or 1\"\n",
    "\n",
    "equal to ==\n",
    "\n",
    "not equal to !=\n",
    "\n",
    "less than <\n",
    "\n",
    "greater than >\n",
    "\n",
    "less than and equal to <=\n",
    "\n",
    "greater than and equal to >=\n",
    "\n",
    "1- is 4 equal to 4?\n",
    "\n",
    "2- Application of logical operators\n",
    "\n",
    "3- Anput function and logical operator\n",
    "\n",
    "3a- hammad_age=input(\"How old is Hammad? \") #input function\n",
    "\n",
    "3b- print(hammad_age==age_at_School) #logical operator\n"
   ]
  },
  {
   "cell_type": "code",
   "execution_count": 7,
   "id": "37b556b6",
   "metadata": {},
   "outputs": [
    {
     "name": "stdout",
     "output_type": "stream",
     "text": [
      "True\n",
      "False\n",
      "True\n",
      "True\n",
      "False\n",
      "True\n",
      "True\n",
      "False\n",
      "How old is Hammad? 4\n",
      "<class 'int'>\n",
      "False\n",
      "False\n",
      "How old is Hammad? 5\n",
      "<class 'int'>\n",
      "True\n"
     ]
    }
   ],
   "source": [
    "print(4==4)\n",
    "print(4!=4)\n",
    "print(4>3)\n",
    "print(3<4)\n",
    "print(3>6)\n",
    "print(3<=5)\n",
    "print(5>=4)\n",
    "\n",
    "hammad_age=4\n",
    "age_at_School=5\n",
    "print(hammad_age==age_at_School)\n",
    "\n",
    "age_at_School=5\n",
    "hammad_age=input(\"How old is Hammad? \")\n",
    "hammad_age=int(hammad_age)\n",
    "print(type(hammad_age))\n",
    "print(hammad_age==age_at_School)\n",
    "\n",
    "hammad_age=6\n",
    "age_at_School=5\n",
    "print(hammad_age==age_at_School)\n",
    "\n",
    "age_at_School=5\n",
    "hammad_age=input(\"How old is Hammad? \")\n",
    "hammad_age=int(hammad_age)\n",
    "print(type(hammad_age))\n",
    "print(hammad_age==age_at_School)"
   ]
  },
  {
   "cell_type": "markdown",
   "id": "e9c68157",
   "metadata": {},
   "source": [
    "### **08- Type of Conversion**\n",
    "\n",
    "x = 10.2 (integer)\n",
    "\n",
    "y = 10 (float)\n",
    "\n",
    "z = \"Hello\" (string)\n",
    "\n",
    "1- Implicit type conversion\n",
    "\n",
    "2- Explicit type conversion\n"
   ]
  },
  {
   "cell_type": "code",
   "execution_count": 8,
   "id": "1007ed8d",
   "metadata": {},
   "outputs": [
    {
     "name": "stdout",
     "output_type": "stream",
     "text": [
      "20.2 type of x is; <class 'float'>\n",
      "what is your age? 10\n",
      "10 <class 'int'>\n",
      "what is your age? 10.5\n",
      "10.5 <class 'float'>\n",
      "what is your name? Mushayyed\n",
      "Mushayyed <class 'str'>\n"
     ]
    }
   ],
   "source": [
    "x = 10.2\n",
    "y = 10\n",
    "z = \"Hello\"\n",
    "\n",
    "x= x+y\n",
    "\n",
    "print(x, \"type of x is;\", type(x))\n",
    "\n",
    "age=input(\"what is your age? \")\n",
    "age=int(age)\n",
    "print(age, type(int(age)))\n",
    "\n",
    "age=input(\"what is your age? \")\n",
    "age=float(age)\n",
    "print(age, type(float(age)))\n",
    "\n",
    "name=input(\"what is your name? \")\n",
    "print(name, type(str(name)))"
   ]
  },
  {
   "cell_type": "markdown",
   "id": "88adccf1",
   "metadata": {},
   "source": [
    "### **09- if, else and elif**\n",
    "\n",
    "**Question:** can hammad go to school?\n"
   ]
  },
  {
   "cell_type": "code",
   "execution_count": 9,
   "id": "07339fc4",
   "metadata": {},
   "outputs": [
    {
     "name": "stdout",
     "output_type": "stream",
     "text": [
      "You should take care of Hammad, he is still a baby!\n"
     ]
    }
   ],
   "source": [
    "required_age_at_school = 5\n",
    "hammad_age = 2\n",
    "\n",
    "if hammad_age==required_age_at_school:\n",
    "    print(\"Congratulationals! Hammad can join the school\")\n",
    "elif hammad_age > required_age_at_school:\n",
    "    print(\"Hammad should join higher secondary school\")\n",
    "elif hammad_age == 2:\n",
    "    print(\"You should take care of Hammad, he is still a baby!\")\n",
    "elif hammad_age <= 2:\n",
    "    print(\"You should take care of Hammad, he is still a baby!\")\n",
    "else:\n",
    "    print(\"Hammad can not go to school\")\n"
   ]
  },
  {
   "cell_type": "markdown",
   "id": "bf924a33",
   "metadata": {},
   "source": [
    "### **10- Functions**\n",
    "\n",
    "1- Defining a functions\n",
    "\n",
    "2- Defining a function with if, elif and else statements (school_calculator)\n",
    "\n",
    "3- Defining a function of future\n"
   ]
  },
  {
   "cell_type": "code",
   "execution_count": 10,
   "id": "aef64696",
   "metadata": {},
   "outputs": [
    {
     "name": "stdout",
     "output_type": "stream",
     "text": [
      "We are learning with Mushayyed\n",
      "We are learning with Mushayyed\n",
      "We are learning with Mushayyed in Youtube\n",
      "We are learning with Mushayyed in Youtube\n",
      "We are learning with Mushayyed in Youtube\n",
      "We are learning with Mushayyed in Youtube\n",
      "We are learning with Mushayyed in Youtube\n",
      "We are learning with Mushayyed in Youtube\n",
      "Hammad should go to higher school\n",
      "25\n"
     ]
    }
   ],
   "source": [
    "def print_mushayyed():\n",
    "    print(\"We are learning with Mushayyed\")\n",
    "    print(\"We are learning with Mushayyed\")\n",
    "print_mushayyed()\n",
    "\n",
    "\n",
    "def print_mushayyed():\n",
    "    text = \"We are learning with Mushayyed in Youtube\"\n",
    "    print(text)\n",
    "    print(text)\n",
    "    print(text)\n",
    "print_mushayyed()\n",
    "\n",
    "\n",
    "def print_mushayyed(text):\n",
    "    print(text)\n",
    "    print(text)\n",
    "    print(text)\n",
    "print_mushayyed(\"We are learning with Mushayyed in Youtube\")\n",
    "\n",
    "\n",
    "\n",
    "def school_calculator(age, text):\n",
    "    if age== 5:\n",
    "        print(\"Hammad can join the school\")\n",
    "    elif age > 5:\n",
    "        print(\"Hammad should go to higher school\")\n",
    "    else:\n",
    "        print(\"Hammad is still a baby\")\n",
    "\n",
    "school_calculator(6, \"Hammad can join the school\")\n",
    "\n",
    "\n",
    "\n",
    "def future_age(age):\n",
    "    new_age= age+20\n",
    "    return new_age\n",
    "    print(new_age)\n",
    "\n",
    "future_predicted_age = future_age(5)\n",
    "print(future_predicted_age)\n"
   ]
  },
  {
   "cell_type": "markdown",
   "id": "a5a1d091",
   "metadata": {},
   "source": [
    "### **11- Loops**\n",
    "\n",
    "1- while and For loops\n",
    "\n",
    "2- array\n",
    "\n",
    "if (d==\"Fri\"):break loop stops\n",
    "\n",
    "if (d==\"Fri\"):continue skips d\n"
   ]
  },
  {
   "cell_type": "code",
   "execution_count": 11,
   "id": "e17e1ea8",
   "metadata": {},
   "outputs": [
    {
     "name": "stdout",
     "output_type": "stream",
     "text": [
      "0\n",
      "1\n",
      "2\n",
      "3\n",
      "4\n",
      "5\n",
      "5\n",
      "6\n",
      "7\n",
      "8\n",
      "9\n",
      "10\n",
      "Mon\n",
      "Tue\n",
      "Wed\n",
      "Thu\n",
      "Mon\n",
      "Tue\n",
      "Wed\n",
      "Thu\n",
      "Sat\n",
      "Sun\n"
     ]
    }
   ],
   "source": [
    "x= 0\n",
    "while (x<=5):\n",
    "    print(x)\n",
    "    x= x+1\n",
    "\n",
    "for x in range(5, 11):\n",
    "    print(x)\n",
    "\n",
    "days = [\"Mon\", \"Tue\", \"Wed\", \"Thu\", \"Fri\", \"Sat\", \"Sun\"]\n",
    "\n",
    "for d in days:\n",
    "    if (d==\"Fri\"):break\n",
    "    print(d)\n",
    "\n",
    "for d in days:\n",
    "    if (d==\"Fri\"):continue\n",
    "    print(d)"
   ]
  },
  {
   "cell_type": "markdown",
   "id": "443da815",
   "metadata": {},
   "source": [
    "### **12- Import Libraries**\n",
    "\n",
    "1- If you want to print the value of pi and mean\n",
    "\n",
    "**important libraries in Python: numpy,\n",
    "pandas**\n"
   ]
  },
  {
   "cell_type": "code",
   "execution_count": 12,
   "id": "81a41bb6",
   "metadata": {},
   "outputs": [
    {
     "name": "stdout",
     "output_type": "stream",
     "text": [
      "The value of pi is  3.141592653589793\n",
      "266.25\n"
     ]
    }
   ],
   "source": [
    "import math\n",
    "print(\"The value of pi is \", math.pi)\n",
    "\n",
    "import statistics\n",
    "x= [15, 250, 350, 450]\n",
    "print(statistics.mean(x))"
   ]
  },
  {
   "cell_type": "markdown",
   "id": "716161f4",
   "metadata": {},
   "source": [
    "### **13- Trouble Shooting**\n",
    "\n",
    "1- print(we are learning Python with Mushayyed) --syntax error\n",
    "\n",
    "2- print(25/0) --runtime error\n",
    "\n",
    "3- print(\"Hello name\") --wrong\n",
    "\n",
    "**trouble shooting is easy**\n"
   ]
  },
  {
   "cell_type": "code",
   "execution_count": 13,
   "id": "1be122da",
   "metadata": {},
   "outputs": [
    {
     "name": "stdout",
     "output_type": "stream",
     "text": [
      "Hello  Mushayyed\n"
     ]
    }
   ],
   "source": [
    "name= \"Mushayyed\"\n",
    "print(\"Hello \", name) #right"
   ]
  }
 ],
 "metadata": {
  "kernelspec": {
   "display_name": "Python 3 (ipykernel)",
   "language": "python",
   "name": "python3"
  },
  "language_info": {
   "codemirror_mode": {
    "name": "ipython",
    "version": 3
   },
   "file_extension": ".py",
   "mimetype": "text/x-python",
   "name": "python",
   "nbconvert_exporter": "python",
   "pygments_lexer": "ipython3",
   "version": "3.9.12"
  }
 },
 "nbformat": 4,
 "nbformat_minor": 5
}
