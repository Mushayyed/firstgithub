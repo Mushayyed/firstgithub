{
 "cells": [
  {
   "cell_type": "code",
   "execution_count": 1,
   "id": "5c457aaf",
   "metadata": {},
   "outputs": [],
   "source": [
    "# body mass index\n",
    "# input weight\n",
    "# height\n",
    "# BMI (Ask your self your height)\n",
    "# Weight\n",
    "# calculate BMI\n",
    "# print BMI (My name is .........., and my BMI is)"
   ]
  },
  {
   "cell_type": "code",
   "execution_count": 2,
   "id": "a5cc2a06",
   "metadata": {},
   "outputs": [],
   "source": [
    "# weight in Kg/Height in m and its square"
   ]
  },
  {
   "cell_type": "code",
   "execution_count": 3,
   "id": "d0f5acb4",
   "metadata": {},
   "outputs": [
    {
     "name": "stdout",
     "output_type": "stream",
     "text": [
      "What is your height?   1.74\n"
     ]
    }
   ],
   "source": [
    "height = input (\"What is your height?   \")"
   ]
  },
  {
   "cell_type": "code",
   "execution_count": 4,
   "id": "3ab011b7",
   "metadata": {},
   "outputs": [],
   "source": [
    "height = float(height)"
   ]
  },
  {
   "cell_type": "code",
   "execution_count": 5,
   "id": "50141bc1",
   "metadata": {},
   "outputs": [
    {
     "name": "stdout",
     "output_type": "stream",
     "text": [
      "What is your weight?   60\n"
     ]
    }
   ],
   "source": [
    "weight = input (\"What is your weight?   \")"
   ]
  },
  {
   "cell_type": "code",
   "execution_count": 6,
   "id": "4b6175e3",
   "metadata": {},
   "outputs": [],
   "source": [
    "weight = float(weight)"
   ]
  },
  {
   "cell_type": "code",
   "execution_count": 7,
   "id": "358d04fa",
   "metadata": {},
   "outputs": [
    {
     "name": "stdout",
     "output_type": "stream",
     "text": [
      "What is your name?       Mushayyed\n"
     ]
    }
   ],
   "source": [
    "name = input (\"What is your name?       \")"
   ]
  },
  {
   "cell_type": "code",
   "execution_count": 8,
   "id": "a76c9c03",
   "metadata": {},
   "outputs": [
    {
     "data": {
      "text/plain": [
       "19.817677368212443"
      ]
     },
     "execution_count": 8,
     "metadata": {},
     "output_type": "execute_result"
    }
   ],
   "source": [
    "BMI = weight/height**2\n",
    "BMI"
   ]
  },
  {
   "cell_type": "code",
   "execution_count": 10,
   "id": "85d6b5bf",
   "metadata": {},
   "outputs": [
    {
     "name": "stdout",
     "output_type": "stream",
     "text": [
      "My name is Mushayyed and my BMI is 19.817677368212443\n"
     ]
    }
   ],
   "source": [
    "print(\"My name is\", name, \"and my BMI is\", BMI)"
   ]
  }
 ],
 "metadata": {
  "kernelspec": {
   "display_name": "Python 3 (ipykernel)",
   "language": "python",
   "name": "python3"
  },
  "language_info": {
   "codemirror_mode": {
    "name": "ipython",
    "version": 3
   },
   "file_extension": ".py",
   "mimetype": "text/x-python",
   "name": "python",
   "nbconvert_exporter": "python",
   "pygments_lexer": "ipython3",
   "version": "3.9.12"
  }
 },
 "nbformat": 4,
 "nbformat_minor": 5
}
